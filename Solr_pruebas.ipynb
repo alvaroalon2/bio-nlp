{
 "cells": [
  {
   "cell_type": "code",
   "execution_count": null,
   "id": "5f421842-9797-456e-9fd7-da74df58bf39",
   "metadata": {},
   "outputs": [],
   "source": []
  }
 ],
 "metadata": {
  "kernelspec": {
   "display_name": "Python (biobert)",
   "language": "python",
   "name": "biobert"
  },
  "language_info": {
   "codemirror_mode": {
    "name": "ipython",
    "version": 3
   },
   "file_extension": ".py",
   "mimetype": "text/x-python",
   "name": "python",
   "nbconvert_exporter": "python",
   "pygments_lexer": "ipython3",
   "version": "3.8.8"
  }
 },
 "nbformat": 4,
 "nbformat_minor": 5
}
