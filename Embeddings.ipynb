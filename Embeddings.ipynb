{
 "cells": [
  {
   "cell_type": "code",
   "execution_count": 1,
   "id": "52b72d9f-134c-40c4-b138-50653be285b9",
   "metadata": {},
   "outputs": [],
   "source": [
    "import h5py\n",
    "import csv \n",
    "import numpy"
   ]
  },
  {
   "cell_type": "code",
   "execution_count": 25,
   "id": "72ed17a8-d9c9-479e-883c-5c9670101e18",
   "metadata": {},
   "outputs": [
    {
     "name": "stdout",
     "output_type": "stream",
     "text": [
      "The number of keys in h5: 2048\n"
     ]
    }
   ],
   "source": [
    "embeddings = []\n",
    "with h5py.File('pubmed_entity_2048.h5', 'r') as f:\n",
    "        with open('pubmed_entity_2048.txt', 'r') as f_in:\n",
    "            \n",
    "            print(\"The number of keys in h5: {}\".format(len(f)))\n",
    "            for i, input in enumerate(f_in):\n",
    "                entity_name = input.strip()\n",
    "                \n",
    "                embedding = f[entity_name]['embedding'][:]\n",
    "                \n",
    "                #print(\"entity_name = {}\".format(entity_name))\n",
    "                #print(\"embedding = {}\".format(embedding))         \n",
    "                embeddings += [embedding]\n",
    "\n",
    "numpy.savetxt(\"pubmed_entity_2048.tsv\", embeddings, delimiter=\"\\t\")\n"
   ]
  },
  {
   "cell_type": "code",
   "execution_count": 1,
   "id": "2abbf628-fbaf-418a-b41b-e914a59b8dda",
   "metadata": {},
   "outputs": [],
   "source": [
    "from tensorboard.plugins import projector\n",
    "%load_ext tensorboard"
   ]
  },
  {
   "cell_type": "code",
   "execution_count": 2,
   "id": "216d80c2-9af5-4228-9bfa-5c0f706be592",
   "metadata": {},
   "outputs": [],
   "source": [
    "log_dir='Embeddings'\n",
    "config = projector.ProjectorConfig()\n",
    "# One can add multiple embeddings.\n",
    "embedding = config.embeddings.add()\n",
    "embedding.tensor_name = 'pubmed_entity_2048.tsv'\n",
    "# Link this tensor to its metadata file (e.g. labels).\n",
    "embedding.tensor_path = \"pubmed_entity_2048.tsv\"\n",
    "embedding.metadata_path = 'pubmed_entity_2048.txt'\n",
    "projector.visualize_embeddings(log_dir, config)"
   ]
  },
  {
   "cell_type": "code",
   "execution_count": 3,
   "id": "425afdc3-c1e4-4239-be42-57a0e10a3aa1",
   "metadata": {},
   "outputs": [
    {
     "data": {
      "text/html": [
       "\n",
       "      <iframe id=\"tensorboard-frame-c9cd8814c33e3fe9\" width=\"100%\" height=\"800\" frameborder=\"0\">\n",
       "      </iframe>\n",
       "      <script>\n",
       "        (function() {\n",
       "          const frame = document.getElementById(\"tensorboard-frame-c9cd8814c33e3fe9\");\n",
       "          const url = new URL(\"/\", window.location);\n",
       "          const port = 6006;\n",
       "          if (port) {\n",
       "            url.port = port;\n",
       "          }\n",
       "          frame.src = url;\n",
       "        })();\n",
       "      </script>\n",
       "    "
      ],
      "text/plain": [
       "<IPython.core.display.HTML object>"
      ]
     },
     "metadata": {},
     "output_type": "display_data"
    }
   ],
   "source": [
    "%tensorboard --logdir Embeddings"
   ]
  },
  {
   "cell_type": "code",
   "execution_count": null,
   "id": "58803ee1-7603-4f3d-9849-21155e7c7f3d",
   "metadata": {},
   "outputs": [],
   "source": []
  }
 ],
 "metadata": {
  "kernelspec": {
   "display_name": "Python (biobert)",
   "language": "python",
   "name": "biobert"
  },
  "language_info": {
   "codemirror_mode": {
    "name": "ipython",
    "version": 3
   },
   "file_extension": ".py",
   "mimetype": "text/x-python",
   "name": "python",
   "nbconvert_exporter": "python",
   "pygments_lexer": "ipython3",
   "version": "3.8.8"
  }
 },
 "nbformat": 4,
 "nbformat_minor": 5
}
