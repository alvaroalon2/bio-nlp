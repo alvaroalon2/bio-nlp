{
 "cells": [
  {
   "cell_type": "code",
   "execution_count": 5,
   "metadata": {},
   "outputs": [
    {
     "data": {
      "text/html": [
       "<div>\n",
       "<style scoped>\n",
       "    .dataframe tbody tr th:only-of-type {\n",
       "        vertical-align: middle;\n",
       "    }\n",
       "\n",
       "    .dataframe tbody tr th {\n",
       "        vertical-align: top;\n",
       "    }\n",
       "\n",
       "    .dataframe thead th {\n",
       "        text-align: right;\n",
       "    }\n",
       "</style>\n",
       "<table border=\"1\" class=\"dataframe\">\n",
       "  <thead>\n",
       "    <tr style=\"text-align: right;\">\n",
       "      <th></th>\n",
       "      <th>Nº Registro</th>\n",
       "      <th>Medicamento</th>\n",
       "      <th>Cód. ATC</th>\n",
       "    </tr>\n",
       "  </thead>\n",
       "  <tbody>\n",
       "    <tr>\n",
       "      <th>0</th>\n",
       "      <td>40537</td>\n",
       "      <td>INACID 25 mg CAPSULAS DURAS</td>\n",
       "      <td>M01AB01</td>\n",
       "    </tr>\n",
       "    <tr>\n",
       "      <th>1</th>\n",
       "      <td>7235</td>\n",
       "      <td>PASSIFLORINE SOLUCION ORAL</td>\n",
       "      <td>N05CM</td>\n",
       "    </tr>\n",
       "    <tr>\n",
       "      <th>2</th>\n",
       "      <td>18329</td>\n",
       "      <td>TIOBARBITAL BRAUN 1 G</td>\n",
       "      <td>N01AF03</td>\n",
       "    </tr>\n",
       "    <tr>\n",
       "      <th>3</th>\n",
       "      <td>33561</td>\n",
       "      <td>DIHYDERGOT COMPRIMIDOS</td>\n",
       "      <td>N02CA01</td>\n",
       "    </tr>\n",
       "    <tr>\n",
       "      <th>4</th>\n",
       "      <td>34369</td>\n",
       "      <td>GLUCOSADA GRIFOLS 5% SOLUCION PARA PERFUSION</td>\n",
       "      <td>B05BA03</td>\n",
       "    </tr>\n",
       "  </tbody>\n",
       "</table>\n",
       "</div>"
      ],
      "text/plain": [
       "  Nº Registro                                   Medicamento Cód. ATC\n",
       "0       40537                   INACID 25 mg CAPSULAS DURAS  M01AB01\n",
       "1        7235                    PASSIFLORINE SOLUCION ORAL    N05CM\n",
       "2       18329                         TIOBARBITAL BRAUN 1 G  N01AF03\n",
       "3       33561                        DIHYDERGOT COMPRIMIDOS  N02CA01\n",
       "4       34369  GLUCOSADA GRIFOLS 5% SOLUCION PARA PERFUSION  B05BA03"
      ]
     },
     "execution_count": 5,
     "metadata": {},
     "output_type": "execute_result"
    }
   ],
   "source": [
    "import pandas as pd \n",
    "\n",
    "data = pd.read_csv(\n",
    "    \"data/drugs.csv\",      # relative python path to subdirectory\n",
    "    sep=';',           # Tab-separated value file.\n",
    "    quotechar=\"\\\"\",        # single quote allowed as quote character\n",
    "    usecols=['Nº Registro', 'Medicamento', 'Cód. ATC']\n",
    ")\n",
    "\n",
    "# Preview the first 5 lines of the loaded data \n",
    "data.head()\n"
   ]
  },
  {
   "cell_type": "code",
   "execution_count": 18,
   "metadata": {},
   "outputs": [
    {
     "name": "stdout",
     "output_type": "stream",
     "text": [
      "     Cód. ATC                                       Nº Registro\n",
      "0     A01AA01                                    [57745, 57746]\n",
      "1       A01AB  [38791, 34484, 35528, 12912, 45563, 9957, 29898]\n",
      "2     A01AB03                                    [84343, 80642]\n",
      "3     A01AB09                                    [55969, 55962]\n",
      "4     A01AB19                                           [39783]\n",
      "...       ...                                               ...\n",
      "2227    V10XX                              [05322001, 05322002]\n",
      "2228  V10XX02                                        [03264001]\n",
      "2229  V10XX03                                       [113873001]\n",
      "2230  V10XX04                                      [1171226001]\n",
      "2231   XXXXXX               [75668, 75670, 75659, 75661, 75663]\n",
      "\n",
      "[2232 rows x 2 columns]\n"
     ]
    }
   ],
   "source": [
    "atc_regs = data.groupby('Cód. ATC')['Nº Registro'].apply(list).reset_index()\n",
    "print(atc_regs)"
   ]
  },
  {
   "cell_type": "code",
   "execution_count": 19,
   "metadata": {},
   "outputs": [
    {
     "name": "stdout",
     "output_type": "stream",
     "text": [
      "100 drugs updated\n",
      "200 drugs updated\n",
      "300 drugs updated\n",
      "400 drugs updated\n",
      "500 drugs updated\n",
      "600 drugs updated\n",
      "700 drugs updated\n",
      "800 drugs updated\n",
      "900 drugs updated\n",
      "1000 drugs updated\n",
      "1100 drugs updated\n",
      "1200 drugs updated\n",
      "1300 drugs updated\n",
      "1400 drugs updated\n",
      "1500 drugs updated\n",
      "1600 drugs updated\n",
      "1700 drugs updated\n",
      "1800 drugs updated\n",
      "1900 drugs updated\n",
      "2000 drugs updated\n",
      "2100 drugs updated\n",
      "2200 drugs updated\n"
     ]
    }
   ],
   "source": [
    "import pysolr\n",
    "\n",
    "solr = pysolr.Solr('http://librairy.linkeddata.es/data/atc', timeout=2)\n",
    "\n",
    "def add_num_regs(atc_code,num_regs):\n",
    "    solr_query = \"code_s:\"+str(atc_code)\n",
    "    for result in solr.search(q=solr_query,rows=1):\n",
    "        result['num_regs_t']=num_regs\n",
    "        return result\n",
    "    return {}\n",
    "\n",
    "updated_drugs = []\n",
    "num = 0;\n",
    "for i in atc_regs.itertuples():\n",
    "    atc_code = i[1]\n",
    "    num_regs = \" \".join(i[2])\n",
    "    updated_drugs.append(add_num_regs(atc_code,num_regs)) \n",
    "    num+=1\n",
    "    if (len(updated_drugs) > 0 and len(updated_drugs) %100 == 0):\n",
    "        solr.add(updated_drugs)\n",
    "        solr.commit()\n",
    "        updated_drugs = []\n",
    "        print(num,\"drugs updated\")"
   ]
  },
  {
   "cell_type": "code",
   "execution_count": null,
   "metadata": {},
   "outputs": [],
   "source": []
  }
 ],
 "metadata": {
  "kernelspec": {
   "display_name": "Python 3",
   "language": "python",
   "name": "python3"
  },
  "language_info": {
   "codemirror_mode": {
    "name": "ipython",
    "version": 3
   },
   "file_extension": ".py",
   "mimetype": "text/x-python",
   "name": "python",
   "nbconvert_exporter": "python",
   "pygments_lexer": "ipython3",
   "version": "3.7.6"
  }
 },
 "nbformat": 4,
 "nbformat_minor": 4
}
