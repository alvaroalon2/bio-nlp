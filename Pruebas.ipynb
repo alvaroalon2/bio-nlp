{
 "cells": [
  {
   "cell_type": "code",
   "execution_count": 1,
   "id": "73b33701-9817-4157-a0b3-0cf2e4f61c5a",
   "metadata": {},
   "outputs": [],
   "source": [
    "import spacy\n",
    "from spacy import displacy\n",
    "\n",
    "import bioprocessor\n",
    "import chemicalprocessor\n",
    "import diseaseprocessor\n",
    "import class_entities\n",
    "\n",
    "import re"
   ]
  },
  {
   "cell_type": "code",
   "execution_count": 2,
   "id": "ba88c615-d203-4b5e-84a9-7925e53f1d31",
   "metadata": {},
   "outputs": [],
   "source": [
    "colors = {\"DISEASE\":\"linear-gradient(90deg, #aa9cfc, #fc9ce7)\",\n",
    "          \"CHEMICAL\":\"linear-gradient(90deg, #43C6AC, ##F8FFAE)\"}"
   ]
  },
  {
   "cell_type": "code",
   "execution_count": 18,
   "id": "61f55a64-a3d6-44ac-b312-de572c7c9c8c",
   "metadata": {},
   "outputs": [
    {
     "name": "stdout",
     "output_type": "stream",
     "text": [
      "Disease Model Loaded\n",
      "Chemical Model Loaded\n"
     ]
    }
   ],
   "source": [
    "disease_service = diseaseprocessor.DiseaseProcessor('./models/Disease')\n",
    "print('Disease Model Loaded')\n",
    "\n",
    "chemical_service = chemicalprocessor.ChemicalProcessor('./models/Chemical')\n",
    "print('Chemical Model Loaded')"
   ]
  },
  {
   "cell_type": "code",
   "execution_count": 12,
   "id": "d1a739bd-4b58-488b-8ecc-4ff476b6f59a",
   "metadata": {},
   "outputs": [
    {
     "name": "stdout",
     "output_type": "stream",
     "text": [
      "The development of a portfolio of COVID-19 vaccines to vaccinate the global population remains an urgent public health imperative1. Here we demonstrate the capacity of a subunit vaccine, comprising the SARS-CoV-2 spike receptor binding domain displayed on a protein nanoparticle (RBD-NP), to stimulate robust and durable neutralizing antibody (nAb) responses and protection against SARS-CoV-2 in non-human primates. We evaluated five adjuvants including Essai O/W 1849101, a squalene-in-water emulsion; AS03, an alpha-tocopherol-containing oil-in-water emulsion; AS37, a TLR-7 agonist adsorbed to Alum; CpG1018-Alum, a TLR-9 agonist formulated in Alum; and Alum. RBD-NP immunization with AS03, CpG1018-Alum, AS37 or Alum induced substantial nAb and CD4 T cell responses, and conferred protection against SARS-CoV-2 infection in the pharynges, nares and bronchoalveolar lavage. Live-virus nAb response was maintained up to 180 days post-vaccination with RBD/AS03, and correlated with protection. RBD-NP immunization cross-neutralized the B.1.1.7 variant efficiently but showed a reduced response against the B.1.351 variant. While RBD-NP/AS03 demonstrated a 4.5-fold reduction in neutralization of B.1.351, the RBD-NP/AS37 group showed a 16-fold reduction, suggesting differences in the breadth of the nAb response induced by these adjuvants. Furthermore, RBD-NP/AS03 was as immunogenic as a prefusion stabilized Spike immunogen (Hexapro) adjuvanted with AS03. These data highlight the efficacy of the adjuvanted RBD-NP vaccine in promoting protective immunity against SARS-CoV-2, and have paved the way for the clinical evaluation of this vaccine in Phase I/II clinical trials.\n",
      "\n",
      "Of the 11 original patients, 9 were women, with a median age of 36 years (range, 22 to 49). Beginning 5 to 16 days after vaccination, the patients presented with one or more thrombotic events, with the exception of 1 patient, who presented with fatal intracranial hemorrhage. Of the patients with one or more thrombotic events, 9 had cerebral venous thrombosis, 3 had splanchnic-vein thrombosis, 3 had pulmonary embolism, and 4 had other thromboses; of these patients, 6 died.\n",
      "N-(1,1-Dimethylethyl)-3-methyl-2-pyridine carboxamide 2-cyano-3-methyl pyridine (400 g) is suspended in t-BuOH (800 mL) and the mixture heated to 70° C. Concentrated sulphuric acid (400 mL) is added dropwise over 45 minutes. The reaction is complete after a further 30 minutes at 75° C. The mixture is then diluted with water (400 mL), charged with toluene (600 mL) and brought to pH 10 with concentrated aqueous ammonia. The temperature is kept at 50°-55° C. during the work up. \n",
      "Five patients had disseminated intravascular coagulation. None of the patients had received heparin before symptom onset. All 28 patients who tested positive for antibodies against PF4–heparin tested positive on the platelet-activation assay in the presence of PF4 independent of heparin. Platelet activation was inhibited by high levels of heparin, Fc receptor–blocking monoclonal antibody, and immune globulin (10 mg per milliliter). Additional studies with PF4 or PF4–heparin affinity purified antibodies in 2 patients confirmed PF4-dependent platelet activation.\n",
      "\n",
      "The toluene phase is separated, the aqueous layer reextracted and the combined toluene phases are washed with water. Removal of the toluene yields an oil, N-(1,1-dimethylethyl)-3-methyl-2-pyridine carboxamide, from which solid product may crystallize. Product yield of 97% is determined by internal standard assay on gas chromatograph.\n",
      "\n",
      "Five patients had disseminated intravascular coagulation. None of the patients had received heparin before symptom onset. All 28 patients who tested positive for antibodies against PF4–heparin tested positive on the platelet-activation assay in the presence of PF4 independent of heparin. Platelet activation was inhibited by high levels of heparin, Fc receptor–blocking monoclonal antibody, and immune globulin (10 mg per milliliter). Additional studies with PF4 or PF4–heparin affinity purified antibodies in 2 patients confirmed PF4-dependent platelet activation.\n",
      "\n",
      "Of the 11 original patients, 9 were women, with a median age of 36 years (range, 22 to 49). Beginning 5 to 16 days after vaccination, the patients presented with one or more thrombotic events, with the exception of 1 patient, who presented with fatal intracranial hemorrhage. Of the patients with one or more thrombotic events, 9 had cerebral venous thrombosis, 3 had splanchnic-vein thrombosis, 3 had pulmonary embolism, and 4 had other thromboses; of these patients, 6 died.\n",
      "\n",
      "Of the 11 original patients, 9 were women, with a median age of 36 years (range, 22 to 49). Beginning 5 to 16 days after vaccination, the patients presented with one or more thrombotic events, with the exception of 1 patient, who presented with fatal intracranial hemorrhage. Of the patients with one or more thrombotic events, 9 had cerebral venous thrombosis, 3 had splanchnic-vein thrombosis, 3 had pulmonary embolism, and 4 had other thromboses; of these patients, 6 died.\n"
     ]
    }
   ],
   "source": [
    "with open('prueba_comb.txt','r') as f:\n",
    "    sequence = f.read()\n",
    "    print(sequence)"
   ]
  },
  {
   "cell_type": "code",
   "execution_count": 13,
   "id": "63502610-eff9-4448-b16b-d06968bf9bc7",
   "metadata": {},
   "outputs": [],
   "source": [
    "def paragraph_tokenize(sequence):\n",
    "    if len(sequence.split('.\\n')) < len(sequence.split('. \\n')):\n",
    "        paragraphs = sequence.split('. \\n')\n",
    "    else:\n",
    "        paragraphs = sequence.split('.\\n')\n",
    "    print('Text split in:', len(paragraphs), 'paragraphs' )\n",
    "    return paragraphs"
   ]
  },
  {
   "cell_type": "code",
   "execution_count": 14,
   "id": "aa891028-c404-4ce7-bbd0-59dafec5babb",
   "metadata": {},
   "outputs": [
    {
     "name": "stdout",
     "output_type": "stream",
     "text": [
      "Text split in: 7 paragraphs\n"
     ]
    }
   ],
   "source": [
    "paragraphs = paragraph_tokenize(sequence)"
   ]
  },
  {
   "cell_type": "code",
   "execution_count": null,
   "id": "d5c8ec6c-609e-4ebf-bd93-5a66ff9c6cab",
   "metadata": {},
   "outputs": [],
   "source": []
  },
  {
   "cell_type": "code",
   "execution_count": 7,
   "id": "1bf504a6-49cb-4d6a-9ef5-f127f86f9503",
   "metadata": {},
   "outputs": [
    {
     "data": {
      "text/plain": [
       "1676"
      ]
     },
     "execution_count": 7,
     "metadata": {},
     "output_type": "execute_result"
    }
   ],
   "source": [
    "len(paragraphs[0])"
   ]
  },
  {
   "cell_type": "code",
   "execution_count": 15,
   "id": "97e5f9ae-400b-4f85-b806-3b5be2d1038c",
   "metadata": {},
   "outputs": [],
   "source": [
    "paragraphs = [paragraphs[0] + paragraphs[1] + paragraphs[2],paragraphs[3] + paragraphs[4] + paragraphs[5]]"
   ]
  },
  {
   "cell_type": "code",
   "execution_count": 16,
   "id": "2382e58f-482b-4cdd-b7da-1078981007a1",
   "metadata": {},
   "outputs": [
    {
     "data": {
      "text/plain": [
       "['The development of a portfolio of COVID-19 vaccines to vaccinate the global population remains an urgent public health imperative1. Here we demonstrate the capacity of a subunit vaccine, comprising the SARS-CoV-2 spike receptor binding domain displayed on a protein nanoparticle (RBD-NP), to stimulate robust and durable neutralizing antibody (nAb) responses and protection against SARS-CoV-2 in non-human primates. We evaluated five adjuvants including Essai O/W 1849101, a squalene-in-water emulsion; AS03, an alpha-tocopherol-containing oil-in-water emulsion; AS37, a TLR-7 agonist adsorbed to Alum; CpG1018-Alum, a TLR-9 agonist formulated in Alum; and Alum. RBD-NP immunization with AS03, CpG1018-Alum, AS37 or Alum induced substantial nAb and CD4 T cell responses, and conferred protection against SARS-CoV-2 infection in the pharynges, nares and bronchoalveolar lavage. Live-virus nAb response was maintained up to 180 days post-vaccination with RBD/AS03, and correlated with protection. RBD-NP immunization cross-neutralized the B.1.1.7 variant efficiently but showed a reduced response against the B.1.351 variant. While RBD-NP/AS03 demonstrated a 4.5-fold reduction in neutralization of B.1.351, the RBD-NP/AS37 group showed a 16-fold reduction, suggesting differences in the breadth of the nAb response induced by these adjuvants. Furthermore, RBD-NP/AS03 was as immunogenic as a prefusion stabilized Spike immunogen (Hexapro) adjuvanted with AS03. These data highlight the efficacy of the adjuvanted RBD-NP vaccine in promoting protective immunity against SARS-CoV-2, and have paved the way for the clinical evaluation of this vaccine in Phase I/II clinical trials\\nOf the 11 original patients, 9 were women, with a median age of 36 years (range, 22 to 49). Beginning 5 to 16 days after vaccination, the patients presented with one or more thrombotic events, with the exception of 1 patient, who presented with fatal intracranial hemorrhage. Of the patients with one or more thrombotic events, 9 had cerebral venous thrombosis, 3 had splanchnic-vein thrombosis, 3 had pulmonary embolism, and 4 had other thromboses; of these patients, 6 diedN-(1,1-Dimethylethyl)-3-methyl-2-pyridine carboxamide 2-cyano-3-methyl pyridine (400 g) is suspended in t-BuOH (800 mL) and the mixture heated to 70° C. Concentrated sulphuric acid (400 mL) is added dropwise over 45 minutes. The reaction is complete after a further 30 minutes at 75° C. The mixture is then diluted with water (400 mL), charged with toluene (600 mL) and brought to pH 10 with concentrated aqueous ammonia. The temperature is kept at 50°-55° C. during the work up. \\nFive patients had disseminated intravascular coagulation. None of the patients had received heparin before symptom onset. All 28 patients who tested positive for antibodies against PF4–heparin tested positive on the platelet-activation assay in the presence of PF4 independent of heparin. Platelet activation was inhibited by high levels of heparin, Fc receptor–blocking monoclonal antibody, and immune globulin (10 mg per milliliter). Additional studies with PF4 or PF4–heparin affinity purified antibodies in 2 patients confirmed PF4-dependent platelet activation',\n",
       " '\\nThe toluene phase is separated, the aqueous layer reextracted and the combined toluene phases are washed with water. Removal of the toluene yields an oil, N-(1,1-dimethylethyl)-3-methyl-2-pyridine carboxamide, from which solid product may crystallize. Product yield of 97% is determined by internal standard assay on gas chromatograph\\nFive patients had disseminated intravascular coagulation. None of the patients had received heparin before symptom onset. All 28 patients who tested positive for antibodies against PF4–heparin tested positive on the platelet-activation assay in the presence of PF4 independent of heparin. Platelet activation was inhibited by high levels of heparin, Fc receptor–blocking monoclonal antibody, and immune globulin (10 mg per milliliter). Additional studies with PF4 or PF4–heparin affinity purified antibodies in 2 patients confirmed PF4-dependent platelet activation\\nOf the 11 original patients, 9 were women, with a median age of 36 years (range, 22 to 49). Beginning 5 to 16 days after vaccination, the patients presented with one or more thrombotic events, with the exception of 1 patient, who presented with fatal intracranial hemorrhage. Of the patients with one or more thrombotic events, 9 had cerebral venous thrombosis, 3 had splanchnic-vein thrombosis, 3 had pulmonary embolism, and 4 had other thromboses; of these patients, 6 died']"
      ]
     },
     "execution_count": 16,
     "metadata": {},
     "output_type": "execute_result"
    }
   ],
   "source": []
  },
  {
   "cell_type": "code",
   "execution_count": 19,
   "id": "810b94aa-aeec-4bd5-9d48-8f2a78e31260",
   "metadata": {},
   "outputs": [
    {
     "name": "stdout",
     "output_type": "stream",
     "text": [
      "0\n",
      "3199\n"
     ]
    }
   ],
   "source": [
    "entities = class_entities.Entities(sequence, [], [], [])\n",
    "offset = 0\n",
    "\n",
    "for i,paragraph in enumerate(paragraphs):\n",
    "    disease_service.sentence_to_process(paragraph)\n",
    "    disease_service.set_offset(offset+i)\n",
    "    disease_results = disease_service.predict()\n",
    "    print(disease_service.offset)\n",
    "    offset = len(paragraph)\n",
    "    entities.append_entities(disease_results)"
   ]
  },
  {
   "cell_type": "code",
   "execution_count": 20,
   "id": "c6f5a5d8-0dd0-4ff6-89c6-684644cd3c33",
   "metadata": {},
   "outputs": [
    {
     "data": {
      "text/html": [
       "<span class=\"tex2jax_ignore\"><div class=\"entities\" style=\"line-height: 2.5; direction: ltr\">The development of a portfolio of COVID-19 vaccines to vaccinate the global population remains an urgent public health imperative1. Here we demonstrate the capacity of a subunit vaccine, comprising the SARS-CoV-2 spike receptor binding domain displayed on a protein nanoparticle (RBD-NP), to stimulate robust and durable neutralizing antibody (nAb) responses and protection against \n",
       "<mark class=\"entity\" style=\"background: linear-gradient(90deg, #aa9cfc, #fc9ce7); padding: 0.45em 0.6em; margin: 0 0.25em; line-height: 1; border-radius: 0.35em;\">\n",
       "    SA\n",
       "    <span style=\"font-size: 0.8em; font-weight: bold; line-height: 1; border-radius: 0.35em; vertical-align: middle; margin-left: 0.5rem\">DISEASE</span>\n",
       "</mark>\n",
       "RS-\n",
       "<mark class=\"entity\" style=\"background: linear-gradient(90deg, #aa9cfc, #fc9ce7); padding: 0.45em 0.6em; margin: 0 0.25em; line-height: 1; border-radius: 0.35em;\">\n",
       "    Co\n",
       "    <span style=\"font-size: 0.8em; font-weight: bold; line-height: 1; border-radius: 0.35em; vertical-align: middle; margin-left: 0.5rem\">DISEASE</span>\n",
       "</mark>\n",
       "V-\n",
       "<mark class=\"entity\" style=\"background: linear-gradient(90deg, #aa9cfc, #fc9ce7); padding: 0.45em 0.6em; margin: 0 0.25em; line-height: 1; border-radius: 0.35em;\">\n",
       "    2\n",
       "    <span style=\"font-size: 0.8em; font-weight: bold; line-height: 1; border-radius: 0.35em; vertical-align: middle; margin-left: 0.5rem\">DISEASE</span>\n",
       "</mark>\n",
       " in non-human primates. We evaluated five adjuvants including Essai O/W 1849101, a squalene-in-water emulsion; AS03, an alpha-tocopherol-containing oil-in-water emulsion; AS37, a TLR-7 agonist adsorbed to Alum; CpG1018-Alum, a TLR-9 agonist formulated in Alum; and Alum. RBD-NP immunization with AS03, CpG1018-Alum, AS37 or Alum induced substantial nAb and CD4 T cell responses, and conferred protection against \n",
       "<mark class=\"entity\" style=\"background: linear-gradient(90deg, #aa9cfc, #fc9ce7); padding: 0.45em 0.6em; margin: 0 0.25em; line-height: 1; border-radius: 0.35em;\">\n",
       "    SARS-CoV-2 infection\n",
       "    <span style=\"font-size: 0.8em; font-weight: bold; line-height: 1; border-radius: 0.35em; vertical-align: middle; margin-left: 0.5rem\">DISEASE</span>\n",
       "</mark>\n",
       " in the pharynges, nares and bronchoalveolar lavage. Live-virus nAb response was maintained up to 180 days post-vaccination with RBD/AS03, and correlated with protection. RBD-NP immunization cross-neutralized the B.1.1.7 variant efficiently but showed a reduced response against the B.1.351 variant. While RBD-NP/AS03 demonstrated a 4.5-fold reduction in neutralization of B.1.351, the RBD-NP/AS37 group showed a 16-fold reduction, suggesting differences in the breadth of the nAb response induced by these adjuvants. Furthermore, RBD-NP/AS03 was as immunogenic as a prefusion stabilized Spike immunogen (Hexapro) adjuvanted with AS03. These data highlight the efficacy of the adjuvanted RBD-NP vaccine in promoting protective immunity against \n",
       "<mark class=\"entity\" style=\"background: linear-gradient(90deg, #aa9cfc, #fc9ce7); padding: 0.45em 0.6em; margin: 0 0.25em; line-height: 1; border-radius: 0.35em;\">\n",
       "    SARS-Co\n",
       "    <span style=\"font-size: 0.8em; font-weight: bold; line-height: 1; border-radius: 0.35em; vertical-align: middle; margin-left: 0.5rem\">DISEASE</span>\n",
       "</mark>\n",
       "V\n",
       "<mark class=\"entity\" style=\"background: linear-gradient(90deg, #aa9cfc, #fc9ce7); padding: 0.45em 0.6em; margin: 0 0.25em; line-height: 1; border-radius: 0.35em;\">\n",
       "    -2\n",
       "    <span style=\"font-size: 0.8em; font-weight: bold; line-height: 1; border-radius: 0.35em; vertical-align: middle; margin-left: 0.5rem\">DISEASE</span>\n",
       "</mark>\n",
       ", and have paved the way for the clinical evaluation of this vaccine in Phase I/II clinical trials.</br></br>Of the 11 original patients, 9 were women, with a median age of 36 years (range, 22 to 49). Beginning 5 to 16 days after vaccination, the patients presented with one or more thrombotic events, with the exception of 1 patient, who presented with fatal intracranial hemorrhage. Of the patients with one or more thrombotic events, 9 had cerebral venous thrombosis, 3 had splanchnic-vein thrombosis, 3 had pulmonary embolism, and 4 had other thromboses; of these patients, 6 died.</br>N-(1,1-Dimethylethyl)-3-methyl-2-pyridine carboxamide 2-cyano-3-methyl pyridine (400 g) is suspended in t-BuOH (800 mL) and the mixture heated to 70° C. Concentrated sulphuric acid (400 mL) is added dropwise over 45 minutes. The reaction is complete after a further 30 minutes at 75° C. The mixture is then diluted with water (400 mL), charged with toluene (600 mL) and brought to pH 10 with concentrated aqueous ammonia. The temperature is kept at 50°-55° C. during the work up. </br>Five patients had disseminated intravascular coagulation. None of the patients had received heparin before symptom onset. All 28 patients who tested positive for antibodies against PF4–heparin tested positive on the platelet-activation assay in the presence of PF4 independent of heparin. Platelet activation was inhibited by high levels of heparin, Fc receptor–blocking monoclonal antibody, and immune globulin (10 mg per milliliter). Additional studies with PF4 or PF4–heparin affinity purified antibodies in 2 patients confirmed PF4-dependent platelet activation.</br></br>The toluene phase is separated, the aqueous layer reextracted and the combined toluene phases are washed with water. Removal of the toluene yields an oil, N-(1,1-dimethylethyl)-3-methyl-2-pyridine carboxamide, from which solid product may crystallize. Product yield of 97% is determined by internal standard assay on gas chromatograph.</br></br>Five patien\n",
       "<mark class=\"entity\" style=\"background: linear-gradient(90deg, #aa9cfc, #fc9ce7); padding: 0.45em 0.6em; margin: 0 0.25em; line-height: 1; border-radius: 0.35em;\">\n",
       "    ts had disseminated intravascular coag\n",
       "    <span style=\"font-size: 0.8em; font-weight: bold; line-height: 1; border-radius: 0.35em; vertical-align: middle; margin-left: 0.5rem\">DISEASE</span>\n",
       "</mark>\n",
       "ulation. None of the patients had received heparin before symptom onset. All 28 patients who tested positive for antibodies against PF4–heparin tested positive on the platelet-activation assay in the presence of PF4 independent of heparin. Platelet activation was inhibited by high levels of heparin, Fc receptor–blocking monoclonal antibody, and immune globulin (10 mg per milliliter). Additional studies with PF4 or PF4–heparin affinity purified antibodies in 2 patients confirmed PF4-dependent platelet activation.</br></br>Of the 11 original patients, 9 were women, with a median age of 36 years (range, 22 to 49). Beginning 5 to 16 days after vaccination, the patients presented with one\n",
       "<mark class=\"entity\" style=\"background: linear-gradient(90deg, #aa9cfc, #fc9ce7); padding: 0.45em 0.6em; margin: 0 0.25em; line-height: 1; border-radius: 0.35em;\">\n",
       "     or more thrombot\n",
       "    <span style=\"font-size: 0.8em; font-weight: bold; line-height: 1; border-radius: 0.35em; vertical-align: middle; margin-left: 0.5rem\">DISEASE</span>\n",
       "</mark>\n",
       "ic events, with the exception of 1 patient, who presen\n",
       "<mark class=\"entity\" style=\"background: linear-gradient(90deg, #aa9cfc, #fc9ce7); padding: 0.45em 0.6em; margin: 0 0.25em; line-height: 1; border-radius: 0.35em;\">\n",
       "    ted with fatal intracranial h\n",
       "    <span style=\"font-size: 0.8em; font-weight: bold; line-height: 1; border-radius: 0.35em; vertical-align: middle; margin-left: 0.5rem\">DISEASE</span>\n",
       "</mark>\n",
       "emorrhage. Of the patients with one\n",
       "<mark class=\"entity\" style=\"background: linear-gradient(90deg, #aa9cfc, #fc9ce7); padding: 0.45em 0.6em; margin: 0 0.25em; line-height: 1; border-radius: 0.35em;\">\n",
       "     or more thrombot\n",
       "    <span style=\"font-size: 0.8em; font-weight: bold; line-height: 1; border-radius: 0.35em; vertical-align: middle; margin-left: 0.5rem\">DISEASE</span>\n",
       "</mark>\n",
       "ic event\n",
       "<mark class=\"entity\" style=\"background: linear-gradient(90deg, #aa9cfc, #fc9ce7); padding: 0.45em 0.6em; margin: 0 0.25em; line-height: 1; border-radius: 0.35em;\">\n",
       "    s, 9 had cerebral venous t\n",
       "    <span style=\"font-size: 0.8em; font-weight: bold; line-height: 1; border-radius: 0.35em; vertical-align: middle; margin-left: 0.5rem\">DISEASE</span>\n",
       "</mark>\n",
       "hrombosi\n",
       "<mark class=\"entity\" style=\"background: linear-gradient(90deg, #aa9cfc, #fc9ce7); padding: 0.45em 0.6em; margin: 0 0.25em; line-height: 1; border-radius: 0.35em;\">\n",
       "    s, 3 had splanchnic-vein t\n",
       "    <span style=\"font-size: 0.8em; font-weight: bold; line-height: 1; border-radius: 0.35em; vertical-align: middle; margin-left: 0.5rem\">DISEASE</span>\n",
       "</mark>\n",
       "hrombosi\n",
       "<mark class=\"entity\" style=\"background: linear-gradient(90deg, #aa9cfc, #fc9ce7); padding: 0.45em 0.6em; margin: 0 0.25em; line-height: 1; border-radius: 0.35em;\">\n",
       "    s, 3 had pulmonary\n",
       "    <span style=\"font-size: 0.8em; font-weight: bold; line-height: 1; border-radius: 0.35em; vertical-align: middle; margin-left: 0.5rem\">DISEASE</span>\n",
       "</mark>\n",
       " embolism, and 4 h\n",
       "<mark class=\"entity\" style=\"background: linear-gradient(90deg, #aa9cfc, #fc9ce7); padding: 0.45em 0.6em; margin: 0 0.25em; line-height: 1; border-radius: 0.35em;\">\n",
       "    ad other t\n",
       "    <span style=\"font-size: 0.8em; font-weight: bold; line-height: 1; border-radius: 0.35em; vertical-align: middle; margin-left: 0.5rem\">DISEASE</span>\n",
       "</mark>\n",
       "hromboses; of these patients, 6 died.</br></br>Of the 11 original patients, 9 were women, with a median age of 36 years (range, 22 to 49). Beginning 5 to 16 days after vaccination, the patients presented with one or more thrombotic events, with the exception of 1 patient, who presented with fatal intracranial hemorrhage. Of the patients with one or more thrombotic events, 9 had cerebral venous thrombosis, 3 had splanchnic-vein thrombosis, 3 had pulmonary embolism, and 4 had other thromboses; of these patients, 6 died.</div></span>"
      ],
      "text/plain": [
       "<IPython.core.display.HTML object>"
      ]
     },
     "metadata": {},
     "output_type": "display_data"
    }
   ],
   "source": [
    "entities_parsed = entities.parse_ner_spacy()\n",
    "\n",
    "entities_html = displacy.render(entities_parsed, style=\"ent\", manual=True,\n",
    "                                options={\"ents\": [\"DISEASE\", \"CHEMICAL\"], \"colors\": colors})"
   ]
  },
  {
   "cell_type": "code",
   "execution_count": 16,
   "id": "6da827d8-33cb-461b-8d50-c369990abab7",
   "metadata": {},
   "outputs": [],
   "source": [
    "tokenizer_disease = disease_service.tokenizer\n",
    "\n",
    "def chunk_text(offset,tokenized_sequence):\n",
    "    split_index = -1\n",
    "    for j in range(offset+509,offset-1,-1):\n",
    "        if tokenized_sequence[j] == '.':\n",
    "            if tokenized_sequence[j+1][0].isupper():\n",
    "                split_index = j\n",
    "                break\n",
    "    return split_index\n",
    "\n",
    "print(len(tokenized_sequence))\n",
    "processing = True\n",
    "offset=0\n",
    "tokenized_sequence = tokenizer_disease.tokenize(sequence)\n",
    "index_list = []\n",
    "while processing:\n",
    "    if len(tokenized_sequence[offset:])<510:\n",
    "        print(len(tokenized_sequence[offset:]))\n",
    "        processing = True\n",
    "        break\n",
    "    split_index = chunk_text(offset, tokenized_sequence)\n",
    "    print('Split index',split_index)\n",
    "    print(len(tokenized_sequence[offset:]))\n",
    "    offset = split_index + 1\n",
    "    index_list.append(split_index)\n",
    "\n",
    "chunks = []\n",
    "for chunk in index_list:\n",
    "    pattern = tokenized_sequence[chunk-1] + tokenized_sequence[chunk]\n",
    "    result = re.search(pattern + ' ', sequence)\n",
    "    print(result)\n",
    "    if result is None:\n",
    "        result = re.search(pattern + '\\n', sequence)\n",
    "    elif result is None:\n",
    "        result = re.search(pattern, sequence)\n",
    "    chunk_size = result.span()\n",
    "    chunks.append(chunk_size[1])\n",
    "\n",
    "start=0\n",
    "entities = class_entities.Entities(sequence, [], [], [])\n",
    "for i,chunk in enumerate(chunks):\n",
    "    chemical_results = []\n",
    "    chunk_number = i + 1\n",
    "    if chunk_number<len(chunks):\n",
    "        print(start)\n",
    "        disease_service.sentence_to_process(sequence[start:chunk])    \n",
    "        disease_service.set_offset(start)\n",
    "        start = chunk\n",
    "    else:\n",
    "        print(start)\n",
    "        print(sequence[start:])\n",
    "        disease_service.sentence_to_process(sequence[start:])\n",
    "\n",
    "    disease_results = disease_service.predict()\n",
    "    \n",
    "\n",
    "    gene_results = []\n",
    "    \n",
    "\n",
    "    entities.append_entities(disease_results)"
   ]
  },
  {
   "cell_type": "code",
   "execution_count": 128,
   "id": "8f0f0ea3-43b8-4c80-8eb6-9f760a69436f",
   "metadata": {},
   "outputs": [
    {
     "data": {
      "text/html": [
       "<span class=\"tex2jax_ignore\"><div class=\"entities\" style=\"line-height: 2.5; direction: ltr\">The development of a portfolio of COVID-19 vaccines to vaccinate the global population remains an urgent public health imperative1. Here we demonstrate the capacity of a subunit vaccine, comprising the SARS-CoV-2 spike receptor binding domain displayed on a protein nanoparticle (RBD-NP), to stimulate robust and durable neutralizing antibody (nAb) responses and protection against \n",
       "<mark class=\"entity\" style=\"background: linear-gradient(90deg, #aa9cfc, #fc9ce7); padding: 0.45em 0.6em; margin: 0 0.25em; line-height: 1; border-radius: 0.35em;\">\n",
       "    SA\n",
       "    <span style=\"font-size: 0.8em; font-weight: bold; line-height: 1; border-radius: 0.35em; vertical-align: middle; margin-left: 0.5rem\">DISEASE</span>\n",
       "</mark>\n",
       "RS-\n",
       "<mark class=\"entity\" style=\"background: linear-gradient(90deg, #aa9cfc, #fc9ce7); padding: 0.45em 0.6em; margin: 0 0.25em; line-height: 1; border-radius: 0.35em;\">\n",
       "    Co\n",
       "    <span style=\"font-size: 0.8em; font-weight: bold; line-height: 1; border-radius: 0.35em; vertical-align: middle; margin-left: 0.5rem\">DISEASE</span>\n",
       "</mark>\n",
       "V-\n",
       "<mark class=\"entity\" style=\"background: linear-gradient(90deg, #aa9cfc, #fc9ce7); padding: 0.45em 0.6em; margin: 0 0.25em; line-height: 1; border-radius: 0.35em;\">\n",
       "    2\n",
       "    <span style=\"font-size: 0.8em; font-weight: bold; line-height: 1; border-radius: 0.35em; vertical-align: middle; margin-left: 0.5rem\">DISEASE</span>\n",
       "</mark>\n",
       " in non-human primates. We evaluated five adjuvants including Essai O/W 1849101, a \n",
       "<mark class=\"entity\" style=\"background: linear-gradient(90deg, #43C6AC, ##F8FFAE); padding: 0.45em 0.6em; margin: 0 0.25em; line-height: 1; border-radius: 0.35em;\">\n",
       "    squalene\n",
       "    <span style=\"font-size: 0.8em; font-weight: bold; line-height: 1; border-radius: 0.35em; vertical-align: middle; margin-left: 0.5rem\">CHEMICAL</span>\n",
       "</mark>\n",
       "-in-water emulsion; AS03, an \n",
       "<mark class=\"entity\" style=\"background: linear-gradient(90deg, #43C6AC, ##F8FFAE); padding: 0.45em 0.6em; margin: 0 0.25em; line-height: 1; border-radius: 0.35em;\">\n",
       "    alpha-tocopherol\n",
       "    <span style=\"font-size: 0.8em; font-weight: bold; line-height: 1; border-radius: 0.35em; vertical-align: middle; margin-left: 0.5rem\">CHEMICAL</span>\n",
       "</mark>\n",
       "-containing oil-in-water emulsion; AS37, a TLR-7 agonist adsorbed to Alum; CpG1018-Alum, a TLR-9 agonist formulated in Alum; and Alum. RBD-NP immunization with AS03, CpG1018-Alum, AS37 or Alum induced substantial nAb and CD4 T cell responses, and conferred protection against \n",
       "<mark class=\"entity\" style=\"background: linear-gradient(90deg, #aa9cfc, #fc9ce7); padding: 0.45em 0.6em; margin: 0 0.25em; line-height: 1; border-radius: 0.35em;\">\n",
       "    SARS-CoV-2 infection\n",
       "    <span style=\"font-size: 0.8em; font-weight: bold; line-height: 1; border-radius: 0.35em; vertical-align: middle; margin-left: 0.5rem\">DISEASE</span>\n",
       "</mark>\n",
       " in the pharynges, nares and bronchoalveolar lavage. Live-virus nAb response was maintained up to 180 days post-vaccination with RBD/AS03, and correlated with protection. RBD-NP immunization cross-neutralized the B.1.1.7 variant efficiently but showed a reduced response against the B.1.351 variant. While RBD-NP/AS03 demonstrated a 4.5-fold reduction in neutralization of B.1.351, the RBD-NP/AS37 group showed a 16-fold reduction, suggesting differences in the breadth of the nAb response induced by these adjuvants. Furthermore, RBD-NP/AS03 was as immunogenic as a prefusion stabilized Spike immunogen (Hexapro) adjuvanted with AS03. These data highlight the efficacy of the adjuvanted RBD-NP vaccine in promoting protective immunity against \n",
       "<mark class=\"entity\" style=\"background: linear-gradient(90deg, #aa9cfc, #fc9ce7); padding: 0.45em 0.6em; margin: 0 0.25em; line-height: 1; border-radius: 0.35em;\">\n",
       "    SARS-Co\n",
       "    <span style=\"font-size: 0.8em; font-weight: bold; line-height: 1; border-radius: 0.35em; vertical-align: middle; margin-left: 0.5rem\">DISEASE</span>\n",
       "</mark>\n",
       "V\n",
       "<mark class=\"entity\" style=\"background: linear-gradient(90deg, #aa9cfc, #fc9ce7); padding: 0.45em 0.6em; margin: 0 0.25em; line-height: 1; border-radius: 0.35em;\">\n",
       "    -2\n",
       "    <span style=\"font-size: 0.8em; font-weight: bold; line-height: 1; border-radius: 0.35em; vertical-align: middle; margin-left: 0.5rem\">DISEASE</span>\n",
       "</mark>\n",
       ", and have paved the way for the clinical evaluation of this vaccine in Phase I/II clinical trials.</br></br>Of the 11 original patients, 9 were women, with a median age of 36 years (range, 22 to 49). Beginning 5 to 16 days after vaccination, the patients presented with one or more thrombotic events, with the exception of 1 patient, who presented with fatal intracranial hemorrhage. Of the patients with one or more thrombotic events, 9 had cerebral venous thrombosis, 3 had splanchnic-vein thrombosis, 3 had pulmonary embolism, and 4 had other thromboses; of these patients, 6 died.</br></br>N-(1,1-Dimethylethyl)-3-methyl-2-pyridine carboxamide 2-cyano-3-methyl pyridine (400 g) is suspended in t-BuOH (800 mL) and the mixture heated to 70° C. Concentrated sulphuric acid (400 mL) is added dropwise over 45 minutes. The reaction is complete after a further 30 minutes at 75° C. The mixture is then diluted with water (400 mL), charged with toluene (600 mL) and brought to pH 10 with concentrated aqueous ammonia. The temperature is kept at 50°-55° C. during the work up. </br></br>Five patients had disseminated intravascular coagulation. None of the patients had received heparin before symptom onset. All 28 patients who tested positive for antibodies against PF4–heparin tested positive on the platelet-activation assay in the presence of PF4 independent of heparin. Platelet activation was inhibited by high levels of heparin, Fc receptor–blocking monoclonal antibody, and immune globulin (10 mg per milliliter). Additional studies with PF4 or PF4–heparin affinity purified antibodies in 2 patients confirmed PF4-dependent platelet activation.</br></br>The toluene phase is separated, the aqueous layer reextracted and the combined toluene phases are washed with water. Removal of the toluene yields an oil, N-(1,1-dimethylethyl)-3-methyl-2-pyridine carboxamide, from which solid product may crystallize. Product yield of 97% is determined by internal standard assay on gas chromatograph.</br></br>Five patients had disseminated intravascular coagulation. None of the patients had received heparin before symptom onset. All 28 patients who tested positive for antibodies against PF4–heparin tested positive on the platelet-activation assay in the presence of PF4 independent of heparin. Platelet activation was inhibited by high levels of heparin, Fc receptor–blocking monoclonal antibody, and immune globulin (10 mg per milliliter). Additional studies with PF4 or PF4–heparin affinity purified antibodies in 2 patients confirmed PF4-dependent platelet activation.</br></br></div></span>"
      ],
      "text/plain": [
       "<IPython.core.display.HTML object>"
      ]
     },
     "metadata": {},
     "output_type": "display_data"
    }
   ],
   "source": [
    "chemical_service.sentence_to_process(sequence)\n",
    "chemical_results = chemical_service.predict()\n",
    "\n",
    "disease_service.sentence_to_process(sequence)\n",
    "disease_results = disease_service.predict()\n",
    "\n",
    "gene_results = []\n",
    "\n",
    "entities = class_entities.Entities(sequence, disease_results, chemical_results, gene_results)\n",
    "\n",
    "entities_parsed = entities.parse_ner_spacy()\n",
    "\n",
    "entities_html = displacy.render(entities_parsed, style=\"ent\", manual=True,\n",
    "                                options={\"ents\": [\"DISEASE\", \"CHEMICAL\"], \"colors\": colors})"
   ]
  },
  {
   "cell_type": "code",
   "execution_count": 131,
   "id": "e6f97a48-c837-4132-8794-8e04c51bbbd8",
   "metadata": {},
   "outputs": [
    {
     "data": {
      "text/plain": [
       "'SA'"
      ]
     },
     "execution_count": 131,
     "metadata": {},
     "output_type": "execute_result"
    }
   ],
   "source": [
    "sequence[382:384]"
   ]
  },
  {
   "cell_type": "code",
   "execution_count": null,
   "id": "6b0be644-1fa4-4166-abda-17b6b35938e5",
   "metadata": {},
   "outputs": [],
   "source": []
  },
  {
   "cell_type": "code",
   "execution_count": null,
   "id": "c6237598-8c24-4c5a-b02e-5ad4a629a979",
   "metadata": {},
   "outputs": [],
   "source": []
  }
 ],
 "metadata": {
  "kernelspec": {
   "display_name": "Python (biobert)",
   "language": "python",
   "name": "biobert"
  },
  "language_info": {
   "codemirror_mode": {
    "name": "ipython",
    "version": 3
   },
   "file_extension": ".py",
   "mimetype": "text/x-python",
   "name": "python",
   "nbconvert_exporter": "python",
   "pygments_lexer": "ipython3",
   "version": "3.8.8"
  }
 },
 "nbformat": 4,
 "nbformat_minor": 5
}
