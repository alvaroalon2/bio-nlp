{
 "cells": [
  {
   "cell_type": "code",
   "execution_count": 1,
   "id": "5f421842-9797-456e-9fd7-da74df58bf39",
   "metadata": {},
   "outputs": [],
   "source": [
    "import pysolr\n",
    "import time"
   ]
  },
  {
   "cell_type": "markdown",
   "id": "5b19378b-a64e-46f4-8529-6ef890e5f537",
   "metadata": {},
   "source": [
    "# Drug loading in Solr"
   ]
  },
  {
   "cell_type": "code",
   "execution_count": 2,
   "id": "3cb491e8-9634-4968-b2cd-b2df26648625",
   "metadata": {},
   "outputs": [
    {
     "name": "stdout",
     "output_type": "stream",
     "text": [
      "{\n",
      "  \"responseHeader\":{\n",
      "    \"zkConnected\":null,\n",
      "    \"status\":0,\n",
      "    \"QTime\":59,\n",
      "    \"params\":{\n",
      "      \"q\":\"{!lucene}*:*\",\n",
      "      \"distrib\":\"false\",\n",
      "      \"df\":\"_text_\",\n",
      "      \"rows\":\"10\",\n",
      "      \"echoParams\":\"all\",\n",
      "      \"rid\":\"-0\"}},\n",
      "  \"status\":\"OK\"}\n",
      "\n"
     ]
    }
   ],
   "source": [
    "solr = pysolr.Solr('http://localhost:8983/solr/drugs', timeout=10)\n",
    "print(solr.ping())"
   ]
  },
  {
   "cell_type": "code",
   "execution_count": 3,
   "id": "2b30020b-3fb3-4013-ba99-f48fe76b3e6d",
   "metadata": {},
   "outputs": [
    {
     "name": "stdout",
     "output_type": "stream",
     "text": [
      "404082\n"
     ]
    }
   ],
   "source": [
    "with open('data/Chemical/drugs.json', 'r') as fout:\n",
    "    drugs = json.loads(fout.read())\n",
    "    print(len(drugs))"
   ]
  },
  {
   "cell_type": "code",
   "execution_count": 4,
   "id": "5555171a-bcad-49b7-a0cf-8e3f8d935a28",
   "metadata": {
    "scrolled": true,
    "tags": []
   },
   "outputs": [
    {
     "name": "stdout",
     "output_type": "stream",
     "text": [
      "<?xml version=\"1.0\" encoding=\"UTF-8\"?>\n",
      "<response>\n",
      "\n",
      "<lst name=\"responseHeader\">\n",
      "  <int name=\"status\">0</int>\n",
      "  <int name=\"QTime\">3960</int>\n",
      "</lst>\n",
      "</response>\n",
      "\n",
      "50000 files added\n",
      "-----------------\n",
      "<?xml version=\"1.0\" encoding=\"UTF-8\"?>\n",
      "<response>\n",
      "\n",
      "<lst name=\"responseHeader\">\n",
      "  <int name=\"status\">0</int>\n",
      "  <int name=\"QTime\">1808</int>\n",
      "</lst>\n",
      "</response>\n",
      "\n",
      "100000 files added\n",
      "-----------------\n",
      "<?xml version=\"1.0\" encoding=\"UTF-8\"?>\n",
      "<response>\n",
      "\n",
      "<lst name=\"responseHeader\">\n",
      "  <int name=\"status\">0</int>\n",
      "  <int name=\"QTime\">925</int>\n",
      "</lst>\n",
      "</response>\n",
      "\n",
      "150000 files added\n",
      "-----------------\n",
      "<?xml version=\"1.0\" encoding=\"UTF-8\"?>\n",
      "<response>\n",
      "\n",
      "<lst name=\"responseHeader\">\n",
      "  <int name=\"status\">0</int>\n",
      "  <int name=\"QTime\">1185</int>\n",
      "</lst>\n",
      "</response>\n",
      "\n",
      "200000 files added\n",
      "-----------------\n",
      "<?xml version=\"1.0\" encoding=\"UTF-8\"?>\n",
      "<response>\n",
      "\n",
      "<lst name=\"responseHeader\">\n",
      "  <int name=\"status\">0</int>\n",
      "  <int name=\"QTime\">1404</int>\n",
      "</lst>\n",
      "</response>\n",
      "\n",
      "250000 files added\n",
      "-----------------\n",
      "<?xml version=\"1.0\" encoding=\"UTF-8\"?>\n",
      "<response>\n",
      "\n",
      "<lst name=\"responseHeader\">\n",
      "  <int name=\"status\">0</int>\n",
      "  <int name=\"QTime\">714</int>\n",
      "</lst>\n",
      "</response>\n",
      "\n",
      "300000 files added\n",
      "-----------------\n",
      "<?xml version=\"1.0\" encoding=\"UTF-8\"?>\n",
      "<response>\n",
      "\n",
      "<lst name=\"responseHeader\">\n",
      "  <int name=\"status\">0</int>\n",
      "  <int name=\"QTime\">732</int>\n",
      "</lst>\n",
      "</response>\n",
      "\n",
      "350000 files added\n",
      "-----------------\n",
      "<?xml version=\"1.0\" encoding=\"UTF-8\"?>\n",
      "<response>\n",
      "\n",
      "<lst name=\"responseHeader\">\n",
      "  <int name=\"status\">0</int>\n",
      "  <int name=\"QTime\">766</int>\n",
      "</lst>\n",
      "</response>\n",
      "\n",
      "400000 files added\n",
      "-----------------\n",
      "<?xml version=\"1.0\" encoding=\"UTF-8\"?>\n",
      "<response>\n",
      "\n",
      "<lst name=\"responseHeader\">\n",
      "  <int name=\"status\">0</int>\n",
      "  <int name=\"QTime\">224</int>\n",
      "</lst>\n",
      "</response>\n",
      "\n",
      "404082 files added\n",
      "-----------------\n"
     ]
    }
   ],
   "source": [
    "solr.add(drugs[0:50000])\n",
    "print(solr.commit())\n",
    "print('50000 files added')\n",
    "print('-----------------')\n",
    "time.sleep(1)\n",
    "solr.add(drugs[50000:100000])\n",
    "print(solr.commit())\n",
    "print('100000 files added')\n",
    "print('-----------------')\n",
    "time.sleep(1)\n",
    "solr.add(drugs[100000:150000])\n",
    "print(solr.commit())\n",
    "print('150000 files added')\n",
    "print('-----------------')\n",
    "time.sleep(1)\n",
    "solr.add(drugs[150000:200000])\n",
    "print(solr.commit())\n",
    "print('200000 files added')\n",
    "print('-----------------')\n",
    "time.sleep(1)\n",
    "solr.add(drugs[200000:250000])\n",
    "print(solr.commit())\n",
    "print('250000 files added')\n",
    "print('-----------------')\n",
    "time.sleep(1)\n",
    "solr.add(drugs[250000:300000])\n",
    "print(solr.commit())\n",
    "print('300000 files added')\n",
    "print('-----------------')\n",
    "time.sleep(1)\n",
    "solr.add(drugs[300000:350000])\n",
    "print(solr.commit())\n",
    "print('350000 files added')\n",
    "print('-----------------')\n",
    "time.sleep(1)\n",
    "solr.add(drugs[350000:400000])\n",
    "print(solr.commit())\n",
    "print('400000 files added')\n",
    "print('-----------------')\n",
    "time.sleep(1)\n",
    "solr.add(drugs[400000:])\n",
    "print(solr.commit())\n",
    "print(str(len(drugs)) + ' files added')\n",
    "print('-----------------')"
   ]
  },
  {
   "cell_type": "markdown",
   "id": "16aeb70c-2b3d-421e-95d7-fc619eddb1ef",
   "metadata": {},
   "source": [
    "# Diseases loading in Solr"
   ]
  },
  {
   "cell_type": "code",
   "execution_count": 5,
   "id": "912b1d7e-944a-472f-ab04-b8e55b3af45b",
   "metadata": {},
   "outputs": [
    {
     "name": "stdout",
     "output_type": "stream",
     "text": [
      "{\n",
      "  \"responseHeader\":{\n",
      "    \"zkConnected\":null,\n",
      "    \"status\":0,\n",
      "    \"QTime\":1,\n",
      "    \"params\":{\n",
      "      \"q\":\"{!lucene}*:*\",\n",
      "      \"distrib\":\"false\",\n",
      "      \"df\":\"_text_\",\n",
      "      \"rows\":\"10\",\n",
      "      \"echoParams\":\"all\",\n",
      "      \"rid\":\"-1\"}},\n",
      "  \"status\":\"OK\"}\n",
      "\n"
     ]
    }
   ],
   "source": [
    "solr = pysolr.Solr('http://localhost:8983/solr/diseases', timeout=20)\n",
    "print(solr.ping())"
   ]
  },
  {
   "cell_type": "code",
   "execution_count": 6,
   "id": "2103b557-3608-42ca-a2d7-fce9bc6be845",
   "metadata": {},
   "outputs": [
    {
     "name": "stdout",
     "output_type": "stream",
     "text": [
      "126985\n"
     ]
    }
   ],
   "source": [
    "with open('data/Disease/diseases.json', 'r') as fout:\n",
    "    diseases = json.loads(fout.read())\n",
    "    print(len(diseases))"
   ]
  },
  {
   "cell_type": "code",
   "execution_count": 7,
   "id": "60977d55-0119-4d9c-a4be-e6557477dab5",
   "metadata": {},
   "outputs": [
    {
     "name": "stdout",
     "output_type": "stream",
     "text": [
      "<?xml version=\"1.0\" encoding=\"UTF-8\"?>\n",
      "<response>\n",
      "\n",
      "<lst name=\"responseHeader\">\n",
      "  <int name=\"status\">0</int>\n",
      "  <int name=\"QTime\">2023</int>\n",
      "</lst>\n",
      "</response>\n",
      "\n",
      "126985 files added\n"
     ]
    }
   ],
   "source": [
    "solr.add(diseases)\n",
    "print(solr.commit())\n",
    "print(len(diseases),'files added')"
   ]
  },
  {
   "cell_type": "markdown",
   "id": "247ea671-bd5c-42f7-a9b9-31f78d5bca55",
   "metadata": {},
   "source": [
    "# Gene loading in Solr"
   ]
  },
  {
   "cell_type": "code",
   "execution_count": 8,
   "id": "5949c957-6f22-4bbc-adbd-ae619ab334bf",
   "metadata": {},
   "outputs": [
    {
     "name": "stdout",
     "output_type": "stream",
     "text": [
      "{\n",
      "  \"responseHeader\":{\n",
      "    \"zkConnected\":null,\n",
      "    \"status\":0,\n",
      "    \"QTime\":0,\n",
      "    \"params\":{\n",
      "      \"q\":\"{!lucene}*:*\",\n",
      "      \"distrib\":\"false\",\n",
      "      \"df\":\"_text_\",\n",
      "      \"rows\":\"10\",\n",
      "      \"echoParams\":\"all\",\n",
      "      \"rid\":\"-2\"}},\n",
      "  \"status\":\"OK\"}\n",
      "\n"
     ]
    }
   ],
   "source": [
    "solr = pysolr.Solr('http://localhost:8983/solr/genetic', timeout=20)\n",
    "print(solr.ping())"
   ]
  },
  {
   "cell_type": "code",
   "execution_count": 9,
   "id": "6178d423-7c40-4977-87a5-f2463cc0234e",
   "metadata": {},
   "outputs": [
    {
     "name": "stdout",
     "output_type": "stream",
     "text": [
      "902597\n"
     ]
    }
   ],
   "source": [
    "with open('data/Genetic/genetic.json', 'r') as fout:\n",
    "    genetic = json.loads(fout.read())\n",
    "    print(len(genetic))"
   ]
  },
  {
   "cell_type": "code",
   "execution_count": null,
   "id": "57e65cd4-e819-4f3b-94f2-91b7249b5924",
   "metadata": {
    "scrolled": true,
    "tags": []
   },
   "outputs": [],
   "source": [
    "solr.add(genetic[0:100000])\n",
    "print(solr.commit())\n",
    "print('100000 files added')\n",
    "print('-----------------')\n",
    "time.sleep(1)\n",
    "solr.add(genetic[100000:200000])\n",
    "print(solr.commit())\n",
    "print('200000 files added')\n",
    "print('-----------------')\n",
    "time.sleep(1)\n",
    "solr.add(genetic[200000:300000])\n",
    "print(solr.commit())\n",
    "print('300000 files added')\n",
    "print('-----------------')\n",
    "time.sleep(1)\n",
    "solr.add(genetic[300000:400000])\n",
    "print(solr.commit())\n",
    "print('400000 files added')\n",
    "print('-----------------')\n",
    "time.sleep(1)\n",
    "solr.add(genetic[400000:500000])\n",
    "print(solr.commit())\n",
    "print('500000 files added')\n",
    "print('-----------------')\n",
    "time.sleep(1)\n",
    "solr.add(genetic[500000:600000])\n",
    "print(solr.commit())\n",
    "print('600000 files added')\n",
    "print('-----------------')\n",
    "time.sleep(1)\n",
    "solr.add(genetic[600000:700000])\n",
    "print(solr.commit())\n",
    "print('700000 files added')\n",
    "print('-----------------')\n",
    "time.sleep(1)\n",
    "solr.add(genetic[700000:800000])\n",
    "print(solr.commit())\n",
    "print('800000 files added')\n",
    "print('-----------------')\n",
    "time.sleep(1)\n",
    "solr.add(genetic[800000:])\n",
    "print(solr.commit())\n",
    "print(str(len(genetic)) + ' files added')\n",
    "print('-----------------')"
   ]
  },
  {
   "cell_type": "code",
   "execution_count": null,
   "id": "4660d553-599d-466b-a506-a0f5b69b0dbf",
   "metadata": {},
   "outputs": [],
   "source": []
  },
  {
   "cell_type": "code",
   "execution_count": null,
   "id": "d4ff4991-7850-446d-a27b-da54d814f83d",
   "metadata": {},
   "outputs": [],
   "source": []
  },
  {
   "cell_type": "code",
   "execution_count": 10,
   "id": "aaf3817b-f5ad-43fb-a13e-903913647753",
   "metadata": {},
   "outputs": [],
   "source": [
    "term = 'carnitine'"
   ]
  },
  {
   "cell_type": "code",
   "execution_count": 11,
   "id": "6012a12b-15a7-452c-820f-8b214e75f558",
   "metadata": {},
   "outputs": [],
   "source": [
    "results = solr.search('term:'+ term +'^1' + 'or synonyms:' + term,**{'fl':'*,score'})"
   ]
  },
  {
   "cell_type": "code",
   "execution_count": 12,
   "id": "0d715d4f-3907-4a54-afd0-77ed5fb167c1",
   "metadata": {},
   "outputs": [
    {
     "name": "stdout",
     "output_type": "stream",
     "text": [
      "Saw 10 result(s).\n"
     ]
    }
   ],
   "source": [
    "print(\"Saw {0} result(s).\".format(len(results)))"
   ]
  },
  {
   "cell_type": "code",
   "execution_count": 13,
   "id": "53786fab-0f75-40e9-8a37-8d858d1e68b1",
   "metadata": {},
   "outputs": [
    {
     "name": "stdout",
     "output_type": "stream",
     "text": [
      "The title is '['(S)-carnitine']'.\n",
      "The score is '11.992022'.\n",
      "-------------------------------------------\n",
      "The title is '['Heptadecanoyl carnitine']'.\n",
      "The score is '11.745849'.\n",
      "-------------------------------------------\n",
      "The title is '['Carnitine']'.\n",
      "The score is '11.638869'.\n",
      "-------------------------------------------\n",
      "The title is '['10-iodostearyl carnitine']'.\n",
      "The score is '11.537504'.\n",
      "-------------------------------------------\n",
      "The title is '['9-iodostearyl carnitine']'.\n",
      "The score is '11.537504'.\n",
      "-------------------------------------------\n",
      "The title is '['9-Iodostearyl carnitine']'.\n",
      "The score is '11.376036'.\n",
      "-------------------------------------------\n",
      "The title is '['Carnitine']'.\n",
      "The score is '11.305431'.\n",
      "-------------------------------------------\n",
      "The title is '['Oleoyl-L-carnitine']'.\n",
      "The score is '11.180414'.\n",
      "-------------------------------------------\n",
      "The title is '['DL-Carnitine hydrochloride']'.\n",
      "The score is '11.044416'.\n",
      "-------------------------------------------\n",
      "The title is '['O-tetradecanoyl-L-carnitine']'.\n",
      "The score is '10.948917'.\n",
      "-------------------------------------------\n"
     ]
    }
   ],
   "source": [
    "for result in results:\n",
    "    print(\"The title is '{0}'.\".format(result['term']))\n",
    "    print(\"The score is '{0}'.\".format(result['score']))\n",
    "    print(\"-------------------------------------------\")"
   ]
  },
  {
   "cell_type": "code",
   "execution_count": 59,
   "id": "b0ddf7ee-4757-4349-9029-6f2bc9bcb694",
   "metadata": {},
   "outputs": [
    {
     "data": {
      "text/plain": [
       "1.5773218"
      ]
     },
     "execution_count": 59,
     "metadata": {},
     "output_type": "execute_result"
    }
   ],
   "source": [
    "result['score']"
   ]
  },
  {
   "cell_type": "code",
   "execution_count": null,
   "id": "e415dc49-98d1-463a-9c5e-361147bb91db",
   "metadata": {},
   "outputs": [],
   "source": []
  },
  {
   "cell_type": "code",
   "execution_count": null,
   "id": "a621088e-4d8f-4cf4-80a3-0085dbe4d870",
   "metadata": {},
   "outputs": [],
   "source": []
  }
 ],
 "metadata": {
  "kernelspec": {
   "display_name": "Python (biobert)",
   "language": "python",
   "name": "biobert"
  },
  "language_info": {
   "codemirror_mode": {
    "name": "ipython",
    "version": 3
   },
   "file_extension": ".py",
   "mimetype": "text/x-python",
   "name": "python",
   "nbconvert_exporter": "python",
   "pygments_lexer": "ipython3",
   "version": "3.8.8"
  }
 },
 "nbformat": 4,
 "nbformat_minor": 5
}
